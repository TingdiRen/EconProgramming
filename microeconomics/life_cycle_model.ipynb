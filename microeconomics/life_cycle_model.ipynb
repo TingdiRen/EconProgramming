{
 "cells": [
  {
   "cell_type": "markdown",
   "source": [
    "# Problem Formulation"
   ],
   "metadata": {
    "collapsed": false,
    "pycharm": {
     "name": "#%% md\n"
    }
   }
  },
  {
   "cell_type": "markdown",
   "source": [
    "Objective: maximize the discount utility from consumption\n",
    "\n",
    "$$\n",
    "\\underset{c_1,c_2,\\cdots ,c_T}{\\max}\\sum_{i=1}^T{\\beta ^{t-1}u\\left( c_t \\right)}\n",
    "\\\\\n",
    "\\mathrm{s}.\\mathrm{t}. \\begin{cases}\n",
    "\tA_t=\\left( 1+r \\right) \\left( A_t+y_t-c_t \\right) , t=2,\\cdots ,T\\\\\n",
    "\tA_0, A_{T+1}=0\\\\\n",
    "\tA_t\\in \\mathbb{R}\\\\\n",
    "\tc_t\\in \\mathbb{R} _+\\\\\n",
    "\\end{cases}\n",
    "$$"
   ],
   "metadata": {
    "collapsed": false,
    "pycharm": {
     "name": "#%% md\n"
    }
   }
  },
  {
   "cell_type": "markdown",
   "source": [
    "# Solver Setting"
   ],
   "metadata": {
    "collapsed": false,
    "pycharm": {
     "name": "#%% md\n"
    }
   }
  },
  {
   "cell_type": "markdown",
   "source": [
    "See install_ipopt.md for a tutorial on how to install the nonlinear solver ipopt."
   ],
   "metadata": {
    "collapsed": false,
    "pycharm": {
     "name": "#%% md\n"
    }
   }
  },
  {
   "cell_type": "code",
   "execution_count": 1,
   "outputs": [],
   "source": [
    "import pyomo.environ as pyo\n",
    "\n",
    "SOLVER = pyo.SolverFactory('ipopt')"
   ],
   "metadata": {
    "collapsed": false,
    "pycharm": {
     "name": "#%%\n"
    }
   }
  },
  {
   "cell_type": "markdown",
   "source": [
    "# Paramater Setting"
   ],
   "metadata": {
    "collapsed": false,
    "pycharm": {
     "name": "#%% md\n"
    }
   }
  },
  {
   "cell_type": "code",
   "execution_count": 2,
   "outputs": [],
   "source": [
    "T = 3\n",
    "beta = 1\n",
    "theta = 0.5\n",
    "r = 0.1\n",
    "\n",
    "y = list(range(T)) # [0,1,2,...,T]\n",
    "\n",
    "def u(x):\n",
    "    return x ** (1 - theta) / (1 - theta)"
   ],
   "metadata": {
    "collapsed": false,
    "pycharm": {
     "name": "#%%\n"
    }
   }
  },
  {
   "cell_type": "markdown",
   "source": [
    "# Create Model"
   ],
   "metadata": {
    "collapsed": false,
    "pycharm": {
     "name": "#%% md\n"
    }
   }
  },
  {
   "cell_type": "code",
   "execution_count": 3,
   "outputs": [
    {
     "name": "stdout",
     "output_type": "stream",
     "text": [
      "Model Life-Cycle Model\n",
      "\n",
      "  Variables:\n",
      "    c : Size=3, Index=c_index\n",
      "        Key : Lower : Value : Upper : Fixed : Stale : Domain\n",
      "          0 : 1e-20 :  None :  None : False :  True :  Reals\n",
      "          1 : 1e-20 :  None :  None : False :  True :  Reals\n",
      "          2 : 1e-20 :  None :  None : False :  True :  Reals\n",
      "    A : Size=4, Index=A_index\n",
      "        Key : Lower : Value : Upper : Fixed : Stale : Domain\n",
      "          0 :  None :  None :  None : False :  True :  Reals\n",
      "          1 :  None :  None :  None : False :  True :  Reals\n",
      "          2 :  None :  None :  None : False :  True :  Reals\n",
      "          3 :  None :  None :  None : False :  True :  Reals\n",
      "\n",
      "  Objectives:\n",
      "    obj : Size=1, Index=None, Active=True\n",
      "ERROR: evaluating object as numeric value: c[0]\n",
      "        (object: <class 'pyomo.core.base.var._GeneralVarData'>)\n",
      "    No value for uninitialized NumericValue object c[0]\n",
      "ERROR: evaluating object as numeric value: obj\n",
      "        (object: <class 'pyomo.core.base.objective.ScalarObjective'>)\n",
      "    No value for uninitialized NumericValue object c[0]\n",
      "        Key : Active : Value\n",
      "        None :   None :  None\n",
      "\n",
      "  Constraints:\n",
      "    cons : Size=5\n",
      "        Key : Lower : Body : Upper\n",
      "          1 :   0.0 : None :   0.0\n",
      "          2 :   0.0 : None :   0.0\n",
      "          3 :   0.0 : None :   0.0\n",
      "          4 :   0.0 : None :   0.0\n",
      "          5 :   0.0 : None :   0.0\n"
     ]
    }
   ],
   "source": [
    "# create model\n",
    "model = pyo.ConcreteModel(\"Life-Cycle Model\")\n",
    "\n",
    "# create decision variables\n",
    "model.c = pyo.Var(range(T), bounds=(1e-20, None))\n",
    "model.A = pyo.Var(range(T + 1), bounds=(None, None))\n",
    "model.obj = pyo.Objective(expr=sum(u(model.c[t]) * beta ** t for t in range(T)), sense=pyo.maximize)\n",
    "\n",
    "# create constraint\n",
    "model.cons = pyo.ConstraintList()\n",
    "model.cons.add(0 == model.A[0])\n",
    "model.cons.add(0 == model.A[T])\n",
    "for t in range(T):\n",
    "    model.cons.add((1 + r) * (model.A[t] + y[t] - model.c[t]) == model.A[t + 1])\n",
    "\n",
    "# display updated model\n",
    "model.display()"
   ],
   "metadata": {
    "collapsed": false,
    "pycharm": {
     "name": "#%%\n"
    }
   }
  },
  {
   "cell_type": "markdown",
   "source": [],
   "metadata": {
    "collapsed": false,
    "pycharm": {
     "name": "#%% md\n"
    }
   }
  },
  {
   "cell_type": "code",
   "execution_count": 4,
   "outputs": [
    {
     "name": "stdout",
     "output_type": "stream",
     "text": [
      "Ipopt 3.14.16: \n",
      "\n",
      "******************************************************************************\n",
      "This program contains Ipopt, a library for large-scale nonlinear optimization.\n",
      " Ipopt is released as open source code under the Eclipse Public License (EPL).\n",
      "         For more information visit https://github.com/coin-or/Ipopt\n",
      "******************************************************************************\n",
      "\n",
      "This is Ipopt version 3.14.16, running with linear solver MUMPS 5.6.2.\n",
      "\n",
      "Number of nonzeros in equality constraint Jacobian...:       11\n",
      "Number of nonzeros in inequality constraint Jacobian.:        0\n",
      "Number of nonzeros in Lagrangian Hessian.............:        3\n",
      "\n",
      "Total number of variables............................:        7\n",
      "                     variables with only lower bounds:        3\n",
      "                variables with lower and upper bounds:        0\n",
      "                     variables with only upper bounds:        0\n",
      "Total number of equality constraints.................:        5\n",
      "Total number of inequality constraints...............:        0\n",
      "        inequality constraints with only lower bounds:        0\n",
      "   inequality constraints with lower and upper bounds:        0\n",
      "        inequality constraints with only upper bounds:        0\n",
      "\n",
      "iter    objective    inf_pr   inf_du lg(mu)  ||d||  lg(rg) alpha_du alpha_pr  ls\n",
      "   0 -5.9999970e-01 2.19e+00 4.74e-02  -1.0 0.00e+00    -  0.00e+00 0.00e+00   0\n",
      "   1 -5.7877368e+00 2.22e-16 9.01e+01  -1.0 1.15e+00    -  1.09e-02 1.00e+00f  1\n",
      "   2 -5.8158966e+00 1.11e-16 1.00e-06  -1.0 2.87e-01    -  1.00e+00 1.00e+00f  1\n",
      "   3 -5.8162847e+00 2.47e-32 2.83e-08  -2.5 4.37e-03    -  1.00e+00 1.00e+00f  1\n",
      "   4 -5.8168607e+00 1.11e-16 1.50e-09  -3.8 6.89e-03    -  1.00e+00 1.00e+00f  1\n",
      "   5 -5.8169810e+00 1.85e-32 1.85e-11  -5.7 1.51e-03    -  1.00e+00 1.00e+00h  1\n",
      "   6 -5.8170315e+00 1.85e-32 2.58e-14  -8.6 4.93e-04    -  1.00e+00 1.00e+00f  1\n",
      "   7 -5.8233187e+00 1.11e-16 2.41e-10 -12.9 8.14e-02    -  9.28e-01 1.00e+00f  1\n",
      "   8 -5.8241431e+00 1.11e-16 8.90e-12 -12.9 4.02e-02    -  9.95e-01 1.00e+00h  1\n",
      "   9 -5.8241447e+00 4.44e-16 1.60e-14 -12.9 1.90e-03    -  1.00e+00 1.00e+00h  1\n",
      "\n",
      "Number of Iterations....: 9\n",
      "\n",
      "                                   (scaled)                 (unscaled)\n",
      "Objective...............:  -5.8241446717005980e-08   -5.8241446717005960e+00\n",
      "Dual infeasibility......:   1.5951123077685562e-14    1.5951123077685556e-06\n",
      "Constraint violation....:   4.4408920985006262e-16    4.4408920985006262e-16\n",
      "Variable bound violation:   0.0000000000000000e+00    0.0000000000000000e+00\n",
      "Complementarity.........:   1.6636089181281419e-13    1.6636089181281413e-05\n",
      "Overall NLP error.......:   1.6636089181281419e-13    1.6636089181281413e-05\n",
      "\n",
      "\n",
      "Number of objective function evaluations             = 10\n",
      "Number of objective gradient evaluations             = 10\n",
      "Number of equality constraint evaluations            = 10\n",
      "Number of inequality constraint evaluations          = 0\n",
      "Number of equality constraint Jacobian evaluations   = 10\n",
      "Number of inequality constraint Jacobian evaluations = 0\n",
      "Number of Lagrangian Hessian evaluations             = 9\n",
      "Total seconds in IPOPT                               = 0.008\n",
      "\n",
      "EXIT: Optimal Solution Found.\n",
      "3 Set Declarations\n",
      "    A_index : Size=1, Index=None, Ordered=Insertion\n",
      "        Key  : Dimen : Domain : Size : Members\n",
      "        None :     1 :    Any :    4 : {0, 1, 2, 3}\n",
      "    c_index : Size=1, Index=None, Ordered=Insertion\n",
      "        Key  : Dimen : Domain : Size : Members\n",
      "        None :     1 :    Any :    3 : {0, 1, 2}\n",
      "    cons_index : Size=1, Index=None, Ordered=Insertion\n",
      "        Key  : Dimen : Domain : Size : Members\n",
      "        None :     1 :    Any :    5 : {1, 2, 3, 4, 5}\n",
      "\n",
      "2 Var Declarations\n",
      "    A : Size=4, Index=A_index\n",
      "        Key : Lower : Value                 : Upper : Fixed : Stale : Domain\n",
      "          0 :  None : -4.81482486096809e-35 :  None : False : False :  Reals\n",
      "          1 :  None :   -0.8514154542960014 :  None : False : False :  Reals\n",
      "          2 :  None :   -0.8667728419490492 :  None : False : False :  Reals\n",
      "          3 :  None :                   0.0 :  None : False : False :  Reals\n",
      "    c : Size=3, Index=c_index\n",
      "        Key : Lower : Value              : Upper : Fixed : Stale : Domain\n",
      "          0 : 1e-20 : 0.7740140493600012 :  None : False : False :  Reals\n",
      "          1 : 1e-20 : 0.9365598565667705 :  None : False : False :  Reals\n",
      "          2 : 1e-20 : 1.1332271580509505 :  None : False : False :  Reals\n",
      "\n",
      "1 Objective Declarations\n",
      "    obj : Size=1, Index=None, Active=True\n",
      "        Key  : Active : Sense    : Expression\n",
      "        None :   True : maximize : c[0]**0.5/0.5 + c[1]**0.5/0.5 + c[2]**0.5/0.5\n",
      "\n",
      "1 Constraint Declarations\n",
      "    cons : Size=5, Index=cons_index, Active=True\n",
      "        Key : Lower : Body                         : Upper : Active\n",
      "          1 :   0.0 :                         A[0] :   0.0 :   True\n",
      "          2 :   0.0 :                         A[3] :   0.0 :   True\n",
      "          3 :   0.0 :     1.1*(A[0] - c[0]) - A[1] :   0.0 :   True\n",
      "          4 :   0.0 : 1.1*(A[1] + 1 - c[1]) - A[2] :   0.0 :   True\n",
      "          5 :   0.0 : 1.1*(A[2] + 2 - c[2]) - A[3] :   0.0 :   True\n",
      "\n",
      "7 Declarations: c_index c A_index A obj cons_index cons\n",
      "obj : Size=1, Index=None, Active=True\n",
      "    Key  : Active : Value\n",
      "    None :   True : 5.824144671700596\n",
      "c : Size=3, Index=c_index\n",
      "    Key : Lower : Value              : Upper : Fixed : Stale : Domain\n",
      "      0 : 1e-20 : 0.7740140493600012 :  None : False : False :  Reals\n",
      "      1 : 1e-20 : 0.9365598565667705 :  None : False : False :  Reals\n",
      "      2 : 1e-20 : 1.1332271580509505 :  None : False : False :  Reals\n",
      "A : Size=4, Index=A_index\n",
      "    Key : Lower : Value                 : Upper : Fixed : Stale : Domain\n",
      "      0 :  None : -4.81482486096809e-35 :  None : False : False :  Reals\n",
      "      1 :  None :   -0.8514154542960014 :  None : False : False :  Reals\n",
      "      2 :  None :   -0.8667728419490492 :  None : False : False :  Reals\n",
      "      3 :  None :                   0.0 :  None : False : False :  Reals\n",
      "End\n"
     ]
    }
   ],
   "source": [
    "results = SOLVER.solve(model, tee=True)\n",
    "\n",
    "model.pprint() # display the whole model\n",
    "\n",
    "model.obj.display()\n",
    "model.c.display()\n",
    "model.A.display()\n",
    "print(\"End\")"
   ],
   "metadata": {
    "collapsed": false,
    "pycharm": {
     "name": "#%%\n"
    }
   }
  },
  {
   "cell_type": "markdown",
   "source": [],
   "metadata": {
    "collapsed": false,
    "pycharm": {
     "name": "#%% md\n"
    }
   }
  }
 ],
 "metadata": {
  "kernelspec": {
   "name": "gurobi",
   "language": "python",
   "display_name": "gurobi"
  },
  "language_info": {
   "codemirror_mode": {
    "name": "ipython",
    "version": 2
   },
   "file_extension": ".py",
   "mimetype": "text/x-python",
   "name": "python",
   "nbconvert_exporter": "python",
   "pygments_lexer": "ipython2",
   "version": "2.7.6"
  }
 },
 "nbformat": 4,
 "nbformat_minor": 0
}